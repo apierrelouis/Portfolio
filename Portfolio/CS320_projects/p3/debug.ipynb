{
 "cells": [
  {
   "cell_type": "code",
   "execution_count": 1,
   "id": "66c0262c-cce3-49ed-99f0-eae2a5293a61",
   "metadata": {},
   "outputs": [],
   "source": [
    "import scrape\n",
    "from selenium.webdriver.chrome.options import Options\n",
    "from selenium.webdriver.chrome.service import Service\n",
    "from selenium import webdriver\n",
    "import pandas as pd"
   ]
  },
  {
   "cell_type": "code",
   "execution_count": 2,
   "id": "ef951ed0-bd0c-475c-9e66-b921c1bdea36",
   "metadata": {},
   "outputs": [
    {
     "name": "stdout",
     "output_type": "stream",
     "text": [
      "child says hi\n",
      "child says hi\n"
     ]
    }
   ],
   "source": [
    "class Parent:\n",
    "    def twice(self):\n",
    "        self.message()\n",
    "        self.message()\n",
    "        \n",
    "    def message(self):\n",
    "        print(\"parent says hi\")\n",
    "        \n",
    "class Child(Parent):\n",
    "    def message(self):\n",
    "        print(\"child says hi\")\n",
    "        \n",
    "c = Child()\n",
    "c.twice()"
   ]
  },
  {
   "cell_type": "code",
   "execution_count": 3,
   "id": "c33dae97-52fb-4317-97f4-d67cef3cfbd7",
   "metadata": {},
   "outputs": [
    {
     "data": {
      "text/html": [
       "<div>\n",
       "<style scoped>\n",
       "    .dataframe tbody tr th:only-of-type {\n",
       "        vertical-align: middle;\n",
       "    }\n",
       "\n",
       "    .dataframe tbody tr th {\n",
       "        vertical-align: top;\n",
       "    }\n",
       "\n",
       "    .dataframe thead th {\n",
       "        text-align: right;\n",
       "    }\n",
       "</style>\n",
       "<table border=\"1\" class=\"dataframe\">\n",
       "  <thead>\n",
       "    <tr style=\"text-align: right;\">\n",
       "      <th></th>\n",
       "      <th>A</th>\n",
       "      <th>B</th>\n",
       "      <th>C</th>\n",
       "      <th>D</th>\n",
       "    </tr>\n",
       "  </thead>\n",
       "  <tbody>\n",
       "    <tr>\n",
       "      <th>A</th>\n",
       "      <td>0</td>\n",
       "      <td>1</td>\n",
       "      <td>0</td>\n",
       "      <td>1</td>\n",
       "    </tr>\n",
       "    <tr>\n",
       "      <th>B</th>\n",
       "      <td>0</td>\n",
       "      <td>0</td>\n",
       "      <td>1</td>\n",
       "      <td>0</td>\n",
       "    </tr>\n",
       "    <tr>\n",
       "      <th>C</th>\n",
       "      <td>0</td>\n",
       "      <td>0</td>\n",
       "      <td>0</td>\n",
       "      <td>1</td>\n",
       "    </tr>\n",
       "    <tr>\n",
       "      <th>D</th>\n",
       "      <td>0</td>\n",
       "      <td>0</td>\n",
       "      <td>1</td>\n",
       "      <td>0</td>\n",
       "    </tr>\n",
       "  </tbody>\n",
       "</table>\n",
       "</div>"
      ],
      "text/plain": [
       "   A  B  C  D\n",
       "A  0  1  0  1\n",
       "B  0  0  1  0\n",
       "C  0  0  0  1\n",
       "D  0  0  1  0"
      ]
     },
     "execution_count": 3,
     "metadata": {},
     "output_type": "execute_result"
    }
   ],
   "source": [
    "\"\"\"\n",
    "g = GraphSearcher()\n",
    "g.dfs_search(\"A\")\n",
    "\"\"\"\n",
    "\n",
    "df = pd.DataFrame([\n",
    "    [0,1,0,1],\n",
    "    [0,0,1,0],\n",
    "    [0,0,0,1],\n",
    "    [0,0,1,0],\n",
    "], index=[\"A\", \"B\", \"C\", \"D\"], columns=[\"A\", \"B\", \"C\", \"D\"])\n",
    "df"
   ]
  },
  {
   "cell_type": "code",
   "execution_count": 4,
   "id": "f7de4390-151c-4f66-9a0a-c81be1eddfdc",
   "metadata": {},
   "outputs": [
    {
     "name": "stdout",
     "output_type": "stream",
     "text": [
      "C\n"
     ]
    }
   ],
   "source": [
    "for node, has_edge in df.loc[\"B\"].items():\n",
    "    if has_edge==1:\n",
    "        print(node)"
   ]
  },
  {
   "cell_type": "code",
   "execution_count": 5,
   "id": "348d563c-fd59-4373-a9bb-f5ca43f4e221",
   "metadata": {},
   "outputs": [
    {
     "data": {
      "text/plain": [
       "['A', 'B', 'C', 'D']"
      ]
     },
     "execution_count": 5,
     "metadata": {},
     "output_type": "execute_result"
    }
   ],
   "source": [
    "m = scrape.MatrixSearcher(df)\n",
    "m.dfs_search(\"A\")\n",
    "m.order"
   ]
  },
  {
   "cell_type": "code",
   "execution_count": 6,
   "id": "878af0b3-35d7-4fea-b6d7-379433f34e97",
   "metadata": {},
   "outputs": [
    {
     "data": {
      "text/plain": [
       "['A', 'B', 'D', 'C']"
      ]
     },
     "execution_count": 6,
     "metadata": {},
     "output_type": "execute_result"
    }
   ],
   "source": [
    "m.bfs_search(\"A\")\n",
    "m.order"
   ]
  },
  {
   "cell_type": "code",
   "execution_count": 7,
   "id": "97958f47-7db7-47d2-b964-f481a87c12ba",
   "metadata": {},
   "outputs": [
    {
     "name": "stdout",
     "output_type": "stream",
     "text": [
      "['2.txt', '4.txt'] ['M'] M\n"
     ]
    }
   ],
   "source": [
    "f = scrape.FileSearcher()\n",
    "print(f.visit_and_get_children(\"1.txt\"), f.order, f.concat_order())"
   ]
  },
  {
   "cell_type": "code",
   "execution_count": 8,
   "id": "8f099377-1e0e-410c-a2fe-5d8d81336771",
   "metadata": {},
   "outputs": [
    {
     "name": "stdout",
     "output_type": "stream",
     "text": [
      "['http://34.171.149.230:5000/Node_2.html', 'http://34.171.149.230:5000/Node_4.html']\n",
      "    clue   latitude   longitude                          description\n",
      "0      1  43.089034  -89.416128              Picnic Point in Madison\n",
      "1      7  38.105507  126.910613               Silver Beach in Hawaii\n",
      "2      1  65.044901  -16.712836  Shore of a Volcanic Lake in Iceland\n",
      "3      3  48.860945    2.335773                  The Louvre in Paris\n",
      "4      8  51.180315   -1.829659                 Stonehenge in the UK\n",
      "5      5  37.434183 -122.321990      Redwood forest in San Francisco\n",
      "6      2  27.987586   86.925002                 Mt. Everest in Nepal\n",
      "7      4  34.134117 -118.321495                 Hollywood Sign in LA\n",
      "8      5  38.655100   90.061800                 Cahokia Mounds in IL\n",
      "9      9  40.748400   73.985700          Empire State Building in NY\n",
      "10     4  29.975300   31.137600        Great Sphinx of Giza in Egypt\n",
      "11     1  47.557600   10.749800     Neuschwanstein Castle in Germany\n",
      "12     5  38.624700   90.184800        The Gateway Arch in St. Louis\n",
      "13     3  30.328500   35.444400                      Petra in Jordan\n",
      "14     2  41.480800   82.683400                    Cedar Point in OH\n",
      "15     6  43.070010  -89.409450          Quick Trip on Monroe Street\n",
      "BASCOM HALL\n"
     ]
    }
   ],
   "source": [
    "import os\n",
    "# kill previous chrome instance if still around (to conserve memory)\n",
    "os.system(\"pkill -f -9 chromium\")\n",
    "\n",
    "options = Options()\n",
    "options.headless = True\n",
    "service = Service(executable_path=\"chromium.chromedriver\")\n",
    "driver = webdriver.Chrome(options=options, service=service)\n",
    "\n",
    "# TODO: use IP address of your VM\n",
    "start_url = \"http://34.171.149.230:5000/Node_1.html\"\n",
    "\n",
    "s = scrape.WebSearcher(driver)\n",
    "print(s.visit_and_get_children(start_url))\n",
    "s = scrape.WebSearcher(driver)\n",
    "s.bfs_search(start_url)\n",
    "\n",
    "travellog = s.table()\n",
    "print(travellog)\n",
    "\n",
    "print(scrape.reveal_secrets(driver, \"http://34.171.149.230:5000\", travellog))\n",
    "\n",
    "driver.close()"
   ]
  },
  {
   "cell_type": "code",
   "execution_count": null,
   "id": "7fbc052e-fa9a-43a6-b76b-5cd7bff8d724",
   "metadata": {},
   "outputs": [],
   "source": []
  }
 ],
 "metadata": {
  "kernelspec": {
   "display_name": "Python 3 (ipykernel)",
   "language": "python",
   "name": "python3"
  },
  "language_info": {
   "codemirror_mode": {
    "name": "ipython",
    "version": 3
   },
   "file_extension": ".py",
   "mimetype": "text/x-python",
   "name": "python",
   "nbconvert_exporter": "python",
   "pygments_lexer": "ipython3",
   "version": "3.10.12"
  }
 },
 "nbformat": 4,
 "nbformat_minor": 5
}
